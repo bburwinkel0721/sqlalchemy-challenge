{
 "cells": [
  {
   "cell_type": "code",
   "execution_count": 1,
   "metadata": {},
   "outputs": [],
   "source": [
    "%matplotlib inline\n",
    "from matplotlib import style\n",
    "style.use('fivethirtyeight')\n",
    "import matplotlib.pyplot as plt"
   ]
  },
  {
   "cell_type": "code",
   "execution_count": 2,
   "metadata": {},
   "outputs": [],
   "source": [
    "import numpy as np\n",
    "import pandas as pd\n",
    "import datetime as dt"
   ]
  },
  {
   "cell_type": "markdown",
   "metadata": {},
   "source": [
    "# Reflect Tables into SQLAlchemy ORM"
   ]
  },
  {
   "cell_type": "code",
   "execution_count": 3,
   "metadata": {},
   "outputs": [],
   "source": [
    "# Python SQL toolkit and Object Relational Mapper\n",
    "import sqlalchemy\n",
    "from sqlalchemy.ext.automap import automap_base\n",
    "from sqlalchemy.orm import Session\n",
    "from sqlalchemy import create_engine, func"
   ]
  },
  {
   "cell_type": "code",
   "execution_count": 4,
   "metadata": {},
   "outputs": [],
   "source": [
    "# create engine to hawaii.sqlite\n",
    "engine = create_engine(\"sqlite:///Resources/hawaii.sqlite\", echo=True)"
   ]
  },
  {
   "cell_type": "code",
   "execution_count": 5,
   "metadata": {},
   "outputs": [
    {
     "name": "stdout",
     "output_type": "stream",
     "text": [
      "2024-05-02 14:55:06,243 INFO sqlalchemy.engine.Engine BEGIN (implicit)\n",
      "2024-05-02 14:55:06,243 INFO sqlalchemy.engine.Engine SELECT name FROM sqlite_master WHERE type='table' AND name NOT LIKE 'sqlite~_%' ESCAPE '~' ORDER BY name\n",
      "2024-05-02 14:55:06,243 INFO sqlalchemy.engine.Engine [raw sql] ()\n",
      "2024-05-02 14:55:06,244 INFO sqlalchemy.engine.Engine SELECT name FROM sqlite_temp_master WHERE type='table' AND name NOT LIKE 'sqlite~_%' ESCAPE '~' ORDER BY name\n",
      "2024-05-02 14:55:06,245 INFO sqlalchemy.engine.Engine [raw sql] ()\n",
      "2024-05-02 14:55:06,245 INFO sqlalchemy.engine.Engine PRAGMA main.table_xinfo(\"measurement\")\n",
      "2024-05-02 14:55:06,245 INFO sqlalchemy.engine.Engine [raw sql] ()\n",
      "2024-05-02 14:55:06,246 INFO sqlalchemy.engine.Engine PRAGMA main.table_xinfo(\"station\")\n",
      "2024-05-02 14:55:06,246 INFO sqlalchemy.engine.Engine [raw sql] ()\n",
      "2024-05-02 14:55:06,247 INFO sqlalchemy.engine.Engine SELECT sql FROM  (SELECT * FROM sqlite_master UNION ALL   SELECT * FROM sqlite_temp_master) WHERE name = ? AND type in ('table', 'view')\n",
      "2024-05-02 14:55:06,247 INFO sqlalchemy.engine.Engine [raw sql] ('measurement',)\n",
      "2024-05-02 14:55:06,248 INFO sqlalchemy.engine.Engine SELECT sql FROM  (SELECT * FROM sqlite_master UNION ALL   SELECT * FROM sqlite_temp_master) WHERE name = ? AND type in ('table', 'view')\n",
      "2024-05-02 14:55:06,249 INFO sqlalchemy.engine.Engine [raw sql] ('station',)\n",
      "2024-05-02 14:55:06,249 INFO sqlalchemy.engine.Engine PRAGMA main.foreign_key_list(\"measurement\")\n",
      "2024-05-02 14:55:06,250 INFO sqlalchemy.engine.Engine [raw sql] ()\n",
      "2024-05-02 14:55:06,250 INFO sqlalchemy.engine.Engine PRAGMA temp.foreign_key_list(\"measurement\")\n",
      "2024-05-02 14:55:06,250 INFO sqlalchemy.engine.Engine [raw sql] ()\n",
      "2024-05-02 14:55:06,251 INFO sqlalchemy.engine.Engine SELECT sql FROM  (SELECT * FROM sqlite_master UNION ALL   SELECT * FROM sqlite_temp_master) WHERE name = ? AND type in ('table', 'view')\n",
      "2024-05-02 14:55:06,251 INFO sqlalchemy.engine.Engine [raw sql] ('measurement',)\n",
      "2024-05-02 14:55:06,252 INFO sqlalchemy.engine.Engine PRAGMA main.foreign_key_list(\"station\")\n",
      "2024-05-02 14:55:06,252 INFO sqlalchemy.engine.Engine [raw sql] ()\n",
      "2024-05-02 14:55:06,253 INFO sqlalchemy.engine.Engine PRAGMA temp.foreign_key_list(\"station\")\n",
      "2024-05-02 14:55:06,253 INFO sqlalchemy.engine.Engine [raw sql] ()\n",
      "2024-05-02 14:55:06,254 INFO sqlalchemy.engine.Engine SELECT sql FROM  (SELECT * FROM sqlite_master UNION ALL   SELECT * FROM sqlite_temp_master) WHERE name = ? AND type in ('table', 'view')\n",
      "2024-05-02 14:55:06,254 INFO sqlalchemy.engine.Engine [raw sql] ('station',)\n",
      "2024-05-02 14:55:06,254 INFO sqlalchemy.engine.Engine PRAGMA main.index_list(\"measurement\")\n",
      "2024-05-02 14:55:06,255 INFO sqlalchemy.engine.Engine [raw sql] ()\n",
      "2024-05-02 14:55:06,255 INFO sqlalchemy.engine.Engine PRAGMA temp.index_list(\"measurement\")\n",
      "2024-05-02 14:55:06,255 INFO sqlalchemy.engine.Engine [raw sql] ()\n",
      "2024-05-02 14:55:06,256 INFO sqlalchemy.engine.Engine PRAGMA main.table_info(\"measurement\")\n",
      "2024-05-02 14:55:06,257 INFO sqlalchemy.engine.Engine [raw sql] ()\n",
      "2024-05-02 14:55:06,257 INFO sqlalchemy.engine.Engine PRAGMA main.index_list(\"station\")\n",
      "2024-05-02 14:55:06,257 INFO sqlalchemy.engine.Engine [raw sql] ()\n",
      "2024-05-02 14:55:06,258 INFO sqlalchemy.engine.Engine PRAGMA temp.index_list(\"station\")\n",
      "2024-05-02 14:55:06,258 INFO sqlalchemy.engine.Engine [raw sql] ()\n",
      "2024-05-02 14:55:06,258 INFO sqlalchemy.engine.Engine PRAGMA main.table_info(\"station\")\n",
      "2024-05-02 14:55:06,258 INFO sqlalchemy.engine.Engine [raw sql] ()\n",
      "2024-05-02 14:55:06,259 INFO sqlalchemy.engine.Engine PRAGMA main.index_list(\"measurement\")\n",
      "2024-05-02 14:55:06,259 INFO sqlalchemy.engine.Engine [raw sql] ()\n",
      "2024-05-02 14:55:06,259 INFO sqlalchemy.engine.Engine PRAGMA temp.index_list(\"measurement\")\n",
      "2024-05-02 14:55:06,259 INFO sqlalchemy.engine.Engine [raw sql] ()\n",
      "2024-05-02 14:55:06,260 INFO sqlalchemy.engine.Engine PRAGMA main.table_info(\"measurement\")\n",
      "2024-05-02 14:55:06,260 INFO sqlalchemy.engine.Engine [raw sql] ()\n",
      "2024-05-02 14:55:06,260 INFO sqlalchemy.engine.Engine SELECT sql FROM  (SELECT * FROM sqlite_master UNION ALL   SELECT * FROM sqlite_temp_master) WHERE name = ? AND type in ('table', 'view')\n",
      "2024-05-02 14:55:06,260 INFO sqlalchemy.engine.Engine [raw sql] ('measurement',)\n",
      "2024-05-02 14:55:06,261 INFO sqlalchemy.engine.Engine PRAGMA main.index_list(\"station\")\n",
      "2024-05-02 14:55:06,261 INFO sqlalchemy.engine.Engine [raw sql] ()\n",
      "2024-05-02 14:55:06,262 INFO sqlalchemy.engine.Engine PRAGMA temp.index_list(\"station\")\n",
      "2024-05-02 14:55:06,262 INFO sqlalchemy.engine.Engine [raw sql] ()\n",
      "2024-05-02 14:55:06,262 INFO sqlalchemy.engine.Engine PRAGMA main.table_info(\"station\")\n",
      "2024-05-02 14:55:06,262 INFO sqlalchemy.engine.Engine [raw sql] ()\n",
      "2024-05-02 14:55:06,263 INFO sqlalchemy.engine.Engine SELECT sql FROM  (SELECT * FROM sqlite_master UNION ALL   SELECT * FROM sqlite_temp_master) WHERE name = ? AND type in ('table', 'view')\n",
      "2024-05-02 14:55:06,263 INFO sqlalchemy.engine.Engine [raw sql] ('station',)\n",
      "2024-05-02 14:55:06,266 INFO sqlalchemy.engine.Engine ROLLBACK\n"
     ]
    }
   ],
   "source": [
    "# reflect an existing database into a new model\n",
    "Base = automap_base()\n",
    "# reflect the tables\n",
    "Base.prepare(autoload_with=engine)"
   ]
  },
  {
   "cell_type": "code",
   "execution_count": 6,
   "metadata": {},
   "outputs": [
    {
     "data": {
      "text/plain": [
       "['station', 'measurement']"
      ]
     },
     "execution_count": 6,
     "metadata": {},
     "output_type": "execute_result"
    }
   ],
   "source": [
    "# View all of the classes that automap found\n",
    "Base.classes.keys()"
   ]
  },
  {
   "cell_type": "code",
   "execution_count": 7,
   "metadata": {},
   "outputs": [],
   "source": [
    "# Save references to each table\n",
    "Measurement = Base.classes.measurement\n",
    "Station = Base.classes.station"
   ]
  },
  {
   "cell_type": "code",
   "execution_count": 8,
   "metadata": {},
   "outputs": [],
   "source": [
    "# Create our session (link) from Python to the DB\n",
    "session = Session(engine)"
   ]
  },
  {
   "cell_type": "markdown",
   "metadata": {},
   "source": [
    "# Exploratory Precipitation Analysis"
   ]
  },
  {
   "cell_type": "code",
   "execution_count": 9,
   "metadata": {},
   "outputs": [
    {
     "name": "stdout",
     "output_type": "stream",
     "text": [
      "2024-05-02 14:55:14,337 INFO sqlalchemy.engine.Engine BEGIN (implicit)\n",
      "2024-05-02 14:55:14,341 INFO sqlalchemy.engine.Engine SELECT measurement.date AS measurement_date \n",
      "FROM measurement ORDER BY measurement.date DESC\n",
      " LIMIT ? OFFSET ?\n",
      "2024-05-02 14:55:14,342 INFO sqlalchemy.engine.Engine [generated in 0.00078s] (1, 0)\n"
     ]
    },
    {
     "data": {
      "text/plain": [
       "('2017-08-23',)"
      ]
     },
     "execution_count": 9,
     "metadata": {},
     "output_type": "execute_result"
    }
   ],
   "source": [
    "# Find the most recent date in the data set.\n",
    "lastest_date = session.query(Measurement.date).order_by(Measurement.date.desc()).first()\n",
    "\n",
    "# Display results\n",
    "lastest_date"
   ]
  },
  {
   "cell_type": "code",
   "execution_count": 10,
   "metadata": {},
   "outputs": [
    {
     "name": "stdout",
     "output_type": "stream",
     "text": [
      "2024-05-02 14:55:19,594 INFO sqlalchemy.engine.Engine SELECT measurement.id AS measurement_id, measurement.station AS measurement_station, measurement.date AS measurement_date, measurement.prcp AS measurement_prcp, measurement.tobs AS measurement_tobs \n",
      "FROM measurement \n",
      "WHERE measurement.date >= ? ORDER BY measurement.date\n",
      "2024-05-02 14:55:19,595 INFO sqlalchemy.engine.Engine [generated in 0.00087s] ('2016-08-23',)\n"
     ]
    },
    {
     "data": {
      "image/png": "[encoded data removed]",
      "text/plain": [
       "<Figure size 640x480 with 1 Axes>"
      ]
     },
     "metadata": {},
     "output_type": "display_data"
    }
   ],
   "source": [
    "# Design a query to retrieve the last 12 months of precipitation data and plot the results. \n",
    "# Starting from the most recent data point in the database. \n",
    "# Calculate the date one year from the last date in data set.\n",
    "\n",
    "# Perform a query to retrieve the data and precipitation scores\n",
    "last_years_measurements = session.query(Measurement).filter(Measurement.date >= '2016-08-23').order_by(Measurement.date).all()\n",
    "last_year_dates_list = [(row.date) for row in last_years_measurements]\n",
    "last_years_prcp_list = [(row.prcp) for row in last_years_measurements]\n",
    "\n",
    "# Save the query results as a Pandas DataFrame. Explicitly set the column names\n",
    "df = pd.DataFrame({\n",
    "    'Dates': last_year_dates_list,\n",
    "    'Precipitation':last_years_prcp_list\n",
    "})\n",
    "\n",
    "# Sort the dataframe by date\n",
    "df = df.sort_values('Dates', ascending=True)\n",
    "\n",
    "# Use Pandas Plotting with Matplotlib to plot the data\n",
    "df.plot(kind='line', x='Dates', y='Precipitation', \n",
    "        xlabel='Date', \n",
    "        ylabel='Inches',\n",
    "        rot=90)\n",
    "\n",
    "# Show the plot\n",
    "plt.show()"
   ]
  },
  {
   "cell_type": "code",
   "execution_count": 11,
   "metadata": {},
   "outputs": [
    {
     "data": {
      "text/html": [
       "<div>\n",
       "<style scoped>\n",
       "    .dataframe tbody tr th:only-of-type {\n",
       "        vertical-align: middle;\n",
       "    }\n",
       "\n",
       "    .dataframe tbody tr th {\n",
       "        vertical-align: top;\n",
       "    }\n",
       "\n",
       "    .dataframe thead th {\n",
       "        text-align: right;\n",
       "    }\n",
       "</style>\n",
       "<table border=\"1\" class=\"dataframe\">\n",
       "  <thead>\n",
       "    <tr style=\"text-align: right;\">\n",
       "      <th></th>\n",
       "      <th>Precipitation</th>\n",
       "    </tr>\n",
       "  </thead>\n",
       "  <tbody>\n",
       "    <tr>\n",
       "      <th>count</th>\n",
       "      <td>2021.000000</td>\n",
       "    </tr>\n",
       "    <tr>\n",
       "      <th>mean</th>\n",
       "      <td>0.177279</td>\n",
       "    </tr>\n",
       "    <tr>\n",
       "      <th>std</th>\n",
       "      <td>0.461190</td>\n",
       "    </tr>\n",
       "    <tr>\n",
       "      <th>min</th>\n",
       "      <td>0.000000</td>\n",
       "    </tr>\n",
       "    <tr>\n",
       "      <th>25%</th>\n",
       "      <td>0.000000</td>\n",
       "    </tr>\n",
       "    <tr>\n",
       "      <th>50%</th>\n",
       "      <td>0.020000</td>\n",
       "    </tr>\n",
       "    <tr>\n",
       "      <th>75%</th>\n",
       "      <td>0.130000</td>\n",
       "    </tr>\n",
       "    <tr>\n",
       "      <th>max</th>\n",
       "      <td>6.700000</td>\n",
       "    </tr>\n",
       "  </tbody>\n",
       "</table>\n",
       "</div>"
      ],
      "text/plain": [
       "       Precipitation\n",
       "count    2021.000000\n",
       "mean        0.177279\n",
       "std         0.461190\n",
       "min         0.000000\n",
       "25%         0.000000\n",
       "50%         0.020000\n",
       "75%         0.130000\n",
       "max         6.700000"
      ]
     },
     "execution_count": 11,
     "metadata": {},
     "output_type": "execute_result"
    }
   ],
   "source": [
    "# Use Pandas to calculate the summary statistics for the precipitation data\n",
    "summary_statistics = df.describe()\n",
    "summary_statistics"
   ]
  },
  {
   "cell_type": "markdown",
   "metadata": {},
   "source": [
    "# Exploratory Station Analysis"
   ]
  },
  {
   "cell_type": "code",
   "execution_count": 12,
   "metadata": {},
   "outputs": [
    {
     "name": "stdout",
     "output_type": "stream",
     "text": [
      "2024-05-02 14:55:25,402 INFO sqlalchemy.engine.Engine SELECT count(station.station) AS count_1 \n",
      "FROM station\n",
      "2024-05-02 14:55:25,404 INFO sqlalchemy.engine.Engine [generated in 0.00134s] ()\n"
     ]
    },
    {
     "data": {
      "text/plain": [
       "[(9,)]"
      ]
     },
     "execution_count": 12,
     "metadata": {},
     "output_type": "execute_result"
    }
   ],
   "source": [
    "# Design a query to calculate the total number of stations in the dataset\n",
    "total_stations_query = session.query(func.count(Station.station)).all()\n",
    "\n",
    "# Display result\n",
    "total_stations_query"
   ]
  },
  {
   "cell_type": "code",
   "execution_count": 13,
   "metadata": {},
   "outputs": [
    {
     "name": "stdout",
     "output_type": "stream",
     "text": [
      "2024-05-02 14:55:29,188 INFO sqlalchemy.engine.Engine SELECT measurement.station AS measurement_station, count(measurement.station) AS count_1 \n",
      "FROM measurement GROUP BY measurement.station ORDER BY count(measurement.station) DESC\n",
      "2024-05-02 14:55:29,189 INFO sqlalchemy.engine.Engine [generated in 0.00119s] ()\n"
     ]
    },
    {
     "data": {
      "text/plain": [
       "[('USC00519281', 2772),\n",
       " ('USC00519397', 2724),\n",
       " ('USC00513117', 2709),\n",
       " ('USC00519523', 2669),\n",
       " ('USC00516128', 2612),\n",
       " ('USC00514830', 2202),\n",
       " ('USC00511918', 1979),\n",
       " ('USC00517948', 1372),\n",
       " ('USC00518838', 511)]"
      ]
     },
     "execution_count": 13,
     "metadata": {},
     "output_type": "execute_result"
    }
   ],
   "source": [
    "# Design a query to find the most active stations (i.e. which stations have the most rows?)\n",
    "# List the stations and their counts in descending order.\n",
    "most_active_stations_query = session.query(Measurement.station, func.count(Measurement.station))\\\n",
    "    .group_by(Measurement.station)\\\n",
    "    .order_by(func.count(Measurement.station).desc())\\\n",
    "    .all()\n",
    "\n",
    "# Display results\n",
    "most_active_stations_query"
   ]
  },
  {
   "cell_type": "code",
   "execution_count": 14,
   "metadata": {},
   "outputs": [
    {
     "name": "stdout",
     "output_type": "stream",
     "text": [
      "2024-05-02 14:55:32,268 INFO sqlalchemy.engine.Engine SELECT min(measurement.tobs) AS min_1, max(measurement.tobs) AS max_1, sum(measurement.tobs) / (count(measurement.tobs) + 0.0) AS anon_1 \n",
      "FROM measurement \n",
      "WHERE measurement.station = ?\n",
      "2024-05-02 14:55:32,269 INFO sqlalchemy.engine.Engine [generated in 0.00097s] ('USC00519281',)\n"
     ]
    },
    {
     "data": {
      "text/plain": [
       "[(54.0, 85.0, 71.66378066378067)]"
      ]
     },
     "execution_count": 14,
     "metadata": {},
     "output_type": "execute_result"
    }
   ],
   "source": [
    "# Store most active station id into variable\n",
    "most_active_station_id = most_active_stations_query[0][0]\n",
    "\n",
    "# Using the most active station id from the previous query, calculate the lowest, highest, and average temperature.\n",
    "station_stats = session.query(func.min(Measurement.tobs), func.max(Measurement.tobs), func.sum(Measurement.tobs)/func.count(Measurement.tobs))\\\n",
    "    .filter(Measurement.station == most_active_station_id)\\\n",
    "    .all()\n",
    "\n",
    "# display results\n",
    "station_stats"
   ]
  },
  {
   "cell_type": "code",
   "execution_count": 15,
   "metadata": {},
   "outputs": [
    {
     "name": "stdout",
     "output_type": "stream",
     "text": [
      "2024-05-02 14:55:36,600 INFO sqlalchemy.engine.Engine SELECT measurement.date AS measurement_date \n",
      "FROM measurement \n",
      "WHERE measurement.station = ? ORDER BY measurement.date DESC\n",
      " LIMIT ? OFFSET ?\n",
      "2024-05-02 14:55:36,601 INFO sqlalchemy.engine.Engine [generated in 0.00103s] ('USC00519281', 1, 0)\n"
     ]
    },
    {
     "data": {
      "text/plain": [
       "('2017-08-18',)"
      ]
     },
     "execution_count": 15,
     "metadata": {},
     "output_type": "execute_result"
    }
   ],
   "source": [
    "# Query to find the most recent date for the most active station \n",
    "lastest_date_most_active = session.query(Measurement.date).filter((Measurement.station == most_active_station_id)).order_by(Measurement.date.desc()).first()\n",
    "\n",
    "# Display result\n",
    "lastest_date_most_active"
   ]
  },
  {
   "cell_type": "code",
   "execution_count": 16,
   "metadata": {},
   "outputs": [
    {
     "name": "stdout",
     "output_type": "stream",
     "text": [
      "2024-05-02 14:55:41,851 INFO sqlalchemy.engine.Engine SELECT measurement.tobs AS measurement_tobs \n",
      "FROM measurement \n",
      "WHERE measurement.station = ? AND measurement.date >= ?\n",
      "2024-05-02 14:55:41,852 INFO sqlalchemy.engine.Engine [generated in 0.00103s] ('USC00519281', '2016-08-18')\n"
     ]
    },
    {
     "data": {
      "image/png": "[encoded data removed]",
      "text/plain": [
       "<Figure size 640x480 with 1 Axes>"
      ]
     },
     "metadata": {},
     "output_type": "display_data"
    }
   ],
   "source": [
    "# Using the most active station id\n",
    "# Query the last 12 months of temperature observation data for this station and plot the results as a histogram\n",
    "query_results = session.query(Measurement.tobs).filter((Measurement.station == most_active_station_id)&(Measurement.date >= '2016-08-18')).all()\n",
    "\n",
    "# Create a dataframe for the histogram plot\n",
    "station_data = pd.DataFrame({\n",
    "    'tobs':[row[0] for row in query_results]\n",
    "})\n",
    "\n",
    "# Create histogram\n",
    "station_data['tobs'].hist(bins=12, legend=True)\n",
    "\n",
    "# Create labels \n",
    "plt.xlabel('Temperature')\n",
    "plt.ylabel('Frequency')\n",
    "\n",
    "# Display plot\n",
    "plt.show()"
   ]
  },
  {
   "cell_type": "markdown",
   "metadata": {},
   "source": [
    "# Close Session"
   ]
  },
  {
   "cell_type": "code",
   "execution_count": 17,
   "metadata": {},
   "outputs": [
    {
     "name": "stdout",
     "output_type": "stream",
     "text": [
      "2024-05-02 14:55:44,960 INFO sqlalchemy.engine.Engine ROLLBACK\n"
     ]
    }
   ],
   "source": [
    "# Close Session\n",
    "session.close()"
   ]
  }
 ],
 "metadata": {
  "anaconda-cloud": {},
  "kernel_info": {
   "name": "python3"
  },
  "kernelspec": {
   "display_name": "Python 3 (ipykernel)",
   "language": "python",
   "name": "python3"
  },
  "language_info": {
   "codemirror_mode": {
    "name": "ipython",
    "version": 3
   },
   "file_extension": ".py",
   "mimetype": "text/x-python",
   "name": "python",
   "nbconvert_exporter": "python",
   "pygments_lexer": "ipython3",
   "version": "3.12.2"
  },
  "nteract": {
   "version": "0.12.3"
  },
  "varInspector": {
   "cols": {
    "lenName": 16,
    "lenType": 16,
    "lenVar": 40
   },
   "kernels_config": {
    "python": {
     "delete_cmd_postfix": "",
     "delete_cmd_prefix": "del ",
     "library": "var_list.py",
     "varRefreshCmd": "print(var_dic_list())"
    },
    "r": {
     "delete_cmd_postfix": ") ",
     "delete_cmd_prefix": "rm(",
     "library": "var_list.r",
     "varRefreshCmd": "cat(var_dic_list()) "
    }
   },
   "types_to_exclude": [
    "module",
    "function",
    "builtin_function_or_method",
    "instance",
    "_Feature"
   ],
   "window_display": false
  }
 },
 "nbformat": 4,
 "nbformat_minor": 2
}
